{
  "nbformat": 4,
  "nbformat_minor": 0,
  "metadata": {
    "colab": {
      "name": "PermaFrostProj.ipynb",
      "provenance": [],
      "collapsed_sections": [],
      "authorship_tag": "ABX9TyPJOiMhs/qjtsf3MyiT23Pk",
      "include_colab_link": true
    },
    "kernelspec": {
      "name": "python3",
      "display_name": "Python 3"
    },
    "language_info": {
      "name": "python"
    }
  },
  "cells": [
    {
      "cell_type": "markdown",
      "metadata": {
        "id": "view-in-github",
        "colab_type": "text"
      },
      "source": [
        "<a href=\"https://colab.research.google.com/github/lucasflores/PermaLost/blob/main/PermaFrostProj.ipynb\" target=\"_parent\"><img src=\"https://colab.research.google.com/assets/colab-badge.svg\" alt=\"Open In Colab\"/></a>"
      ]
    },
    {
      "cell_type": "markdown",
      "source": [
        "\n",
        "#Permafrost Project\n",
        "\n",
        "## The Problem\n",
        "\n",
        "Melt and thaw of ground leads to decay of 'soft' artifacts -> race to save these from decay/rot\n",
        "\n",
        "## The Project\n",
        "\n",
        "In this project I will use permafrost data provided by the European Space Agency's (ESA) Climate Change Initiative (CCI) Permafrost project.  It is derived from a thermal model driven and constrained by satellite data.\n",
        "\n",
        "## The Data\n",
        "Permafrost is an Essential Climate Variable (ECV) within the Global Climate Observing System (GCOS), which is characterized by subsurface temperatures and the depth of the seasonal thaw layer. Complementing ground-based monitoring networks, the Permafrost CCI project is establishing Earth Observation (EO) based products for the permafrost ECV spanning the last two decades. Since ground temperature and thaw depth cannot be directly observed from space-borne sensors, a variety of satellite and reanalysis data are combined in a ground thermal model. The algorithm uses remotely sensed data sets of Land Surface Temperature (MODIS LST/ ESA LST CCI) and landcover (ESA Landcover CCI) to drive the transient permafrost model CryoGrid CCI, which yields thaw depth and ground temperature at various depths, while ground temperature forms the basis for permafrost fraction.\n",
        "\n",
        "### **GTD** Ground temp (by depth) - **GST**, **T1m**, **T2m**, **T5m**, and **T10m**\n",
        "This corresponds to average annual ground temperatures and is provided for specific depths,\n",
        "Ground Surface Temperature, 1 meter beneath surface, 2 meters beneath surface, 5 meters beneath surface, and 10 meters beneath surface.\n",
        "  \n",
        "\n",
        "### **PFR** Permafrost extent (fraction)\n",
        "The boundary of permafrost can be defined as\n",
        "1. The geographical boundary between the continuous and discontinuous permafrost zones.\n",
        "2. The margin of a discrete body of permafrost.\n",
        "\n",
        "A permafrost region is commonly subdivided into permafrost zones based on the proportion of the ground that is perennially cryotic. The basic subdivision in high latitudes is into zones of continuous permafrost and discontinuous permafrost. REFERENCES: Muller, 1943; Brown, 1967, 1978; Washburn, 1979; Pewe, 1983. Continuous permafrost is the major subdivision of a permafrost region in which permafrost occurs everywhere beneath the exposed land surface with the exception of widely scattered sites. Taliks associated with rivers and lakes may occur in the continuous permafrost zone. REFERENCE: Brown, 1970. Discontinuous permafrost corresponds to permafrost occurring in some areas beneath the exposed land\n",
        "surface throughout a geographic region where other areas are free of permafrost. Discontinuous permafrost occurs between the continuous permafrost zone and the southern latitudinal limit of permafrost in lowlands. Depending on the scale of mapping, several subzones can often be\n",
        "distinguished, based on the percentage (or fraction) of the land surface underlain by permafrost, as shown in the following table.\n",
        "\n",
        "### **ALT** Active Layer Thickness\n",
        "Active Layer Thickness is the thickness of the layer of the ground that is subject to annual thawing and freezing in areas underlain by permafrost. The thickness of the active layer depends on such factors as the ambient air temperature, vegetation, drainage, soil or rock type and total water content, snowcover, and degree and orientation of slope. As a rule, the active layer is thin in the High Arctic (it can be less than 15 cm) and becomes thicker farther south (1 m or more).\n",
        "The thickness of the active layer can vary from year to year, primarily due to variations in the mean annual air temperature, distribution of soil moisture, and snowcover\n",
        "\n",
        "\n",
        "\n"
      ],
      "metadata": {
        "id": "s-KIAJgcIq8k"
      }
    },
    {
      "cell_type": "markdown",
      "source": [
        "### Project Package Dependencies  \n",
        "- pandas \n",
        "- geopandas \n",
        "- matplotlib\n",
        "\n",
        "### ML/Analysis algorithm note\n",
        "* Geographic Weighted Regression seems to be a reasonable start for some predictive analysis via the mgwr python package (more details here https://deepnote.com/@carlos-mendez/PYTHON-GWR-and-MGWR-cd2LqaPqTSibIEHMiigreg)\n",
        "* Might just be useful for interpolation. Not sure if I can do like a time series regression. \n",
        "* gwr/mgwr has a “bandwidth“ parameter which sets the “neighborhood” size to be used for the location based regression. Also it seems to apply some shooting which I should read up more on.  \n",
        "\n",
        "## General Notes\n",
        "### *04/05/22* \n",
        "* Data downloading, combing of separate PFR, ATL, and GTD files, and deleting nan and non Greenland data in dfs (most expensive/longest steps) takes about 1-1.5 hours.\n",
        "* Downloads faster on google cola but not enough RAM to do row dropping computations. Trying to find smart ways to release RAM. Should check in indices of “”Greenland” lat/longs exist in some relatively close range that I can take advantage of so I don’t have to loop through every goddamn instance. \n",
        "* Want to implement a memory profiler as well. "
      ],
      "metadata": {
        "id": "qY2Ned_kNBJi"
      }
    },
    {
      "cell_type": "code",
      "source": [
        "!pip install --upgrade geopandas\n",
        "!pip install folium matplotlib mapclassify\n",
        "!pip3 install pickle5\n",
        "!pip install wget\n",
        "#!pip install dtale"
      ],
      "metadata": {
        "id": "ayakbaN2F9MO",
        "colab": {
          "base_uri": "https://localhost:8080/"
        },
        "outputId": "79bf0447-11f7-403d-8b08-68d3a8f91acc"
      },
      "execution_count": 1,
      "outputs": [
        {
          "output_type": "stream",
          "name": "stdout",
          "text": [
            "Looking in indexes: https://pypi.org/simple, https://us-python.pkg.dev/colab-wheels/public/simple/\n",
            "Collecting geopandas\n",
            "  Downloading geopandas-0.10.2-py2.py3-none-any.whl (1.0 MB)\n",
            "\u001b[K     |████████████████████████████████| 1.0 MB 19.0 MB/s \n",
            "\u001b[?25hCollecting pyproj>=2.2.0\n",
            "  Downloading pyproj-3.2.1-cp37-cp37m-manylinux2010_x86_64.whl (6.3 MB)\n",
            "\u001b[K     |████████████████████████████████| 6.3 MB 79.4 MB/s \n",
            "\u001b[?25hRequirement already satisfied: pandas>=0.25.0 in /usr/local/lib/python3.7/dist-packages (from geopandas) (1.3.5)\n",
            "Collecting fiona>=1.8\n",
            "  Downloading Fiona-1.8.21-cp37-cp37m-manylinux2014_x86_64.whl (16.7 MB)\n",
            "\u001b[K     |████████████████████████████████| 16.7 MB 69.4 MB/s \n",
            "\u001b[?25hRequirement already satisfied: shapely>=1.6 in /usr/local/lib/python3.7/dist-packages (from geopandas) (1.8.4)\n",
            "Requirement already satisfied: click>=4.0 in /usr/local/lib/python3.7/dist-packages (from fiona>=1.8->geopandas) (7.1.2)\n",
            "Requirement already satisfied: setuptools in /usr/local/lib/python3.7/dist-packages (from fiona>=1.8->geopandas) (57.4.0)\n",
            "Collecting munch\n",
            "  Downloading munch-2.5.0-py2.py3-none-any.whl (10 kB)\n",
            "Collecting click-plugins>=1.0\n",
            "  Downloading click_plugins-1.1.1-py2.py3-none-any.whl (7.5 kB)\n",
            "Collecting cligj>=0.5\n",
            "  Downloading cligj-0.7.2-py3-none-any.whl (7.1 kB)\n",
            "Requirement already satisfied: attrs>=17 in /usr/local/lib/python3.7/dist-packages (from fiona>=1.8->geopandas) (22.1.0)\n",
            "Requirement already satisfied: six>=1.7 in /usr/local/lib/python3.7/dist-packages (from fiona>=1.8->geopandas) (1.15.0)\n",
            "Requirement already satisfied: certifi in /usr/local/lib/python3.7/dist-packages (from fiona>=1.8->geopandas) (2022.6.15)\n",
            "Requirement already satisfied: pytz>=2017.3 in /usr/local/lib/python3.7/dist-packages (from pandas>=0.25.0->geopandas) (2022.2.1)\n",
            "Requirement already satisfied: numpy>=1.17.3 in /usr/local/lib/python3.7/dist-packages (from pandas>=0.25.0->geopandas) (1.21.6)\n",
            "Requirement already satisfied: python-dateutil>=2.7.3 in /usr/local/lib/python3.7/dist-packages (from pandas>=0.25.0->geopandas) (2.8.2)\n",
            "Installing collected packages: munch, cligj, click-plugins, pyproj, fiona, geopandas\n",
            "Successfully installed click-plugins-1.1.1 cligj-0.7.2 fiona-1.8.21 geopandas-0.10.2 munch-2.5.0 pyproj-3.2.1\n",
            "Looking in indexes: https://pypi.org/simple, https://us-python.pkg.dev/colab-wheels/public/simple/\n",
            "Requirement already satisfied: folium in /usr/local/lib/python3.7/dist-packages (0.12.1.post1)\n",
            "Requirement already satisfied: matplotlib in /usr/local/lib/python3.7/dist-packages (3.2.2)\n",
            "Collecting mapclassify\n",
            "  Downloading mapclassify-2.4.3-py3-none-any.whl (38 kB)\n",
            "Requirement already satisfied: numpy in /usr/local/lib/python3.7/dist-packages (from folium) (1.21.6)\n",
            "Requirement already satisfied: jinja2>=2.9 in /usr/local/lib/python3.7/dist-packages (from folium) (2.11.3)\n",
            "Requirement already satisfied: branca>=0.3.0 in /usr/local/lib/python3.7/dist-packages (from folium) (0.5.0)\n",
            "Requirement already satisfied: requests in /usr/local/lib/python3.7/dist-packages (from folium) (2.23.0)\n",
            "Requirement already satisfied: MarkupSafe>=0.23 in /usr/local/lib/python3.7/dist-packages (from jinja2>=2.9->folium) (2.0.1)\n",
            "Requirement already satisfied: python-dateutil>=2.1 in /usr/local/lib/python3.7/dist-packages (from matplotlib) (2.8.2)\n",
            "Requirement already satisfied: kiwisolver>=1.0.1 in /usr/local/lib/python3.7/dist-packages (from matplotlib) (1.4.4)\n",
            "Requirement already satisfied: pyparsing!=2.0.4,!=2.1.2,!=2.1.6,>=2.0.1 in /usr/local/lib/python3.7/dist-packages (from matplotlib) (3.0.9)\n",
            "Requirement already satisfied: cycler>=0.10 in /usr/local/lib/python3.7/dist-packages (from matplotlib) (0.11.0)\n",
            "Requirement already satisfied: typing-extensions in /usr/local/lib/python3.7/dist-packages (from kiwisolver>=1.0.1->matplotlib) (4.1.1)\n",
            "Requirement already satisfied: six>=1.5 in /usr/local/lib/python3.7/dist-packages (from python-dateutil>=2.1->matplotlib) (1.15.0)\n",
            "Requirement already satisfied: networkx in /usr/local/lib/python3.7/dist-packages (from mapclassify) (2.6.3)\n",
            "Requirement already satisfied: pandas>=1.0 in /usr/local/lib/python3.7/dist-packages (from mapclassify) (1.3.5)\n",
            "Requirement already satisfied: scikit-learn in /usr/local/lib/python3.7/dist-packages (from mapclassify) (1.0.2)\n",
            "Requirement already satisfied: scipy>=1.0 in /usr/local/lib/python3.7/dist-packages (from mapclassify) (1.7.3)\n",
            "Requirement already satisfied: pytz>=2017.3 in /usr/local/lib/python3.7/dist-packages (from pandas>=1.0->mapclassify) (2022.2.1)\n",
            "Requirement already satisfied: idna<3,>=2.5 in /usr/local/lib/python3.7/dist-packages (from requests->folium) (2.10)\n",
            "Requirement already satisfied: chardet<4,>=3.0.2 in /usr/local/lib/python3.7/dist-packages (from requests->folium) (3.0.4)\n",
            "Requirement already satisfied: urllib3!=1.25.0,!=1.25.1,<1.26,>=1.21.1 in /usr/local/lib/python3.7/dist-packages (from requests->folium) (1.24.3)\n",
            "Requirement already satisfied: certifi>=2017.4.17 in /usr/local/lib/python3.7/dist-packages (from requests->folium) (2022.6.15)\n",
            "Requirement already satisfied: joblib>=0.11 in /usr/local/lib/python3.7/dist-packages (from scikit-learn->mapclassify) (1.1.0)\n",
            "Requirement already satisfied: threadpoolctl>=2.0.0 in /usr/local/lib/python3.7/dist-packages (from scikit-learn->mapclassify) (3.1.0)\n",
            "Installing collected packages: mapclassify\n",
            "Successfully installed mapclassify-2.4.3\n",
            "Looking in indexes: https://pypi.org/simple, https://us-python.pkg.dev/colab-wheels/public/simple/\n",
            "Collecting pickle5\n",
            "  Downloading pickle5-0.0.12-cp37-cp37m-manylinux_2_5_x86_64.manylinux1_x86_64.whl (256 kB)\n",
            "\u001b[K     |████████████████████████████████| 256 kB 35.1 MB/s \n",
            "\u001b[?25hInstalling collected packages: pickle5\n",
            "Successfully installed pickle5-0.0.12\n",
            "Looking in indexes: https://pypi.org/simple, https://us-python.pkg.dev/colab-wheels/public/simple/\n",
            "Collecting wget\n",
            "  Downloading wget-3.2.zip (10 kB)\n",
            "Building wheels for collected packages: wget\n",
            "  Building wheel for wget (setup.py) ... \u001b[?25l\u001b[?25hdone\n",
            "  Created wheel for wget: filename=wget-3.2-py3-none-any.whl size=9675 sha256=058cd63d74f73fde4a2e7017fea4c30df881edb6dfe325ffd5c4ce699fdd17e8\n",
            "  Stored in directory: /root/.cache/pip/wheels/a1/b6/7c/0e63e34eb06634181c63adacca38b79ff8f35c37e3c13e3c02\n",
            "Successfully built wget\n",
            "Installing collected packages: wget\n",
            "Successfully installed wget-3.2\n"
          ]
        }
      ]
    },
    {
      "cell_type": "code",
      "execution_count": 1,
      "metadata": {
        "id": "quYKUmQLdRxm"
      },
      "outputs": [],
      "source": [
        "import os\n",
        "import pandas as pd\n",
        "import sklearn\n",
        "import numpy as np\n",
        "%matplotlib inline\n",
        "import matplotlib as mpl\n",
        "import matplotlib.pyplot as plt\n",
        "import pickle5 as pickle\n",
        "import geopandas as gpd\n",
        "from shapely.geometry import Point\n",
        "import folium\n",
        "import wget\n",
        "import xarray as xr\n",
        "import gc   #garbage collector interface\n",
        "#import argparse\n",
        "#import dtale\n",
        "#import dtale.global_state as global_state\n",
        "#global_state.set_chart_settings({'scatter_points': 15000, '3d_points': 40000})\n",
        "#import dtale.app as dtale_app\n",
        "#dtale_app.USE_COLAB = True"
      ]
    },
    {
      "cell_type": "markdown",
      "source": [
        "# Get The Data"
      ],
      "metadata": {
        "id": "J80kN1TDTHUm"
      }
    },
    {
      "cell_type": "code",
      "source": [
        "selectGreenland_to_pickle=True\n",
        "\n",
        "years = ['2000','2001']\n",
        "\n",
        "if selectGreenland_to_pickle :\n",
        "  for year in years :\n",
        "  #for year in ['1999']:\n",
        "    ALT = \"https://dap.ceda.ac.uk/neodc/esacci/permafrost/data/active_layer_thickness/L4/area4/pp/v03.0//ESACCI-PERMAFROST-L4-ALT-ERA5_MODISLST_BIASCORRECTED-AREA4_PP-\"+year+\"-fv03.0.nc\"\n",
        "    PFR = \"https://dap.ceda.ac.uk/neodc/esacci/permafrost/data/permafrost_extent/L4/area4/pp/v03.0//ESACCI-PERMAFROST-L4-PFR-ERA5_MODISLST_BIASCORRECTED-AREA4_PP-\"+year+\"-fv03.0.nc\"\n",
        "    GTD = \"https://dap.ceda.ac.uk/neodc/esacci/permafrost/data/ground_temperature/L4/area4/pp/v03.0//ESACCI-PERMAFROST-L4-GTD-ERA5_MODISLST_BIASCORRECTED-AREA4_PP-\"+year+\"-fv03.0.nc\"\n",
        "\n",
        "    wget.download(GTD, './')\n",
        "    dsGTD = xr.open_dataset('ESACCI-PERMAFROST-L4-GTD-ERA5_MODISLST_BIASCORRECTED-AREA4_PP-'+year+'-fv03.0.nc')\n",
        "    os.remove('ESACCI-PERMAFROST-L4-GTD-ERA5_MODISLST_BIASCORRECTED-AREA4_PP-'+year+'-fv03.0.nc')\n",
        "    dfGTD = dsGTD[['GST','T1m','T2m','T5m','T10m']].to_dataframe() #RAM destroyer\n",
        "    del dsGTD    # No longer need dataset\n",
        "    %reset -f Out   # Release memory\n",
        "    gc.collect() # Collect memory garbage\n",
        "    dfGTD = dfGTD.reset_index()\n",
        "    # Restrict to Lat/Long containing Greenland only\n",
        "    #print(dfGTD.iloc[72000000:113000000]) #Selects Longs -4.042571e+05 to -2.977496e+06\n",
        "    dfGTD = dfGTD.iloc[72000000:113000000] #Selects Lats between -2500000.0 and -274000.0\n",
        "    %reset -f Out\n",
        "    gc.collect() \n",
        "    dfGTD.drop(dfGTD[dfGTD['x'] < -2499489.0].index, inplace=True)\n",
        "    dfGTD.drop(dfGTD[dfGTD['x'] > -285781.1].index, inplace=True)\n",
        "    %reset -f Out\n",
        "    gc.collect() \n",
        "\n",
        "    wget.download(PFR, './')\n",
        "    dsPFR = xr.open_dataset('ESACCI-PERMAFROST-L4-PFR-ERA5_MODISLST_BIASCORRECTED-AREA4_PP-'+year+'-fv03.0.nc')\n",
        "    os.remove('ESACCI-PERMAFROST-L4-PFR-ERA5_MODISLST_BIASCORRECTED-AREA4_PP-'+year+'-fv03.0.nc')\n",
        "    dfPFR = dsPFR.to_dataframe()\n",
        "    del dsPFR\n",
        "    %reset -f Out\n",
        "    gc.collect() \n",
        "    dfPFR = dfPFR.reset_index()\n",
        "    dfPFR = dfPFR.iloc[40361213:65095962] # x: -2.499489e+06 to -2.857811e+05\n",
        "    %reset -f Out\n",
        "    gc.collect() \n",
        "    dfPFR.drop(dfPFR[dfPFR['y'] < -2900000.0].index, inplace=True)\n",
        "    dfPFR.drop(dfPFR[dfPFR['y'] > -420000.0].index, inplace=True)\n",
        "    %reset -f Out\n",
        "    gc.collect() \n",
        "  \n",
        "    wget.download(ALT, './')\n",
        "    dsALT = xr.open_dataset('ESACCI-PERMAFROST-L4-ALT-ERA5_MODISLST_BIASCORRECTED-AREA4_PP-'+year+'-fv03.0.nc')\n",
        "    os.remove('ESACCI-PERMAFROST-L4-ALT-ERA5_MODISLST_BIASCORRECTED-AREA4_PP-'+year+'-fv03.0.nc')\n",
        "    dfALT = dsALT.to_dataframe()\n",
        "    del dsALT\n",
        "    %reset -f Out\n",
        "    gc.collect() \n",
        "    dfALT = dfALT.reset_index()\n",
        "    dfALT = dfALT.iloc[40361213:65095962]\n",
        "    %reset -f Out\n",
        "    gc.collect() \n",
        "    dfALT.drop(dfALT[dfALT['y'] < -2900000.0].index, inplace=True)\n",
        "    dfALT.drop(dfALT[dfALT['y'] > -420000.0].index, inplace=True)\n",
        "    %reset -f Out\n",
        "    gc.collect() \n",
        "  \n",
        "    #Concat datasets together \n",
        "    dfGreenland_PFR_ALT = pd.concat([dfPFR, dfALT['ALT']], axis=1)\n",
        "    del dfPFR\n",
        "    del dfALT\n",
        "    dfGreenland_PFR_ALT = dfGreenland_PFR_ALT.dropna(subset=['PFR','ALT'], how='all')\n",
        "    dfGTD = dfGTD.dropna(subset=['GST','T1m','T2m','T5m','T10m'], how='all')\n",
        "    dfGreenland_PFR_ALT.to_pickle(\"Greenland_PFR_ALT_noNANallColumns_\"+year+\"_Pickle.pkl\")\n",
        "    dfGTD.to_pickle(\"Greenland_GTD_noNANallColumns_\"+year+\"_Pickle.pkl\")\n",
        "    %reset -f Out\n",
        "    gc.collect() \n",
        "    #gdfGreenland = gpd.GeoDataFrame( dfGreenland, geometry=gpd.points_from_xy(dfGreenland.x, dfGreenland.y))\n",
        "\n",
        "del dfGreenland_PFR_ALT\n",
        "del dfGTD\n",
        "%reset -f Out\n",
        "gc.collect() \n",
        "\n",
        "%ls"
      ],
      "metadata": {
        "id": "71JDETzNTMhg",
        "colab": {
          "base_uri": "https://localhost:8080/"
        },
        "outputId": "579be25e-6254-4375-a442-5a3658690d3f"
      },
      "execution_count": null,
      "outputs": [
        {
          "output_type": "stream",
          "name": "stdout",
          "text": [
            "Flushing output cache (0 entries)\n",
            "Don't know how to reset  #, please run `%reset?` for details\n",
            "Don't know how to reset  release, please run `%reset?` for details\n",
            "Don't know how to reset  memory, please run `%reset?` for details\n"
          ]
        }
      ]
    },
    {
      "cell_type": "code",
      "source": [
        "# mount it\n",
        "from google.colab import drive\n",
        "drive.mount('/content/drive')\n",
        "%ls /content/drive\n",
        "# copy it there\n",
        "#!cp example.txt /content/drive/MyDrive"
      ],
      "metadata": {
        "colab": {
          "base_uri": "https://localhost:8080/"
        },
        "id": "mzxxDg_wqNZW",
        "outputId": "72f6ad60-d6a4-4c86-b967-d4ffb779e758"
      },
      "execution_count": 4,
      "outputs": [
        {
          "output_type": "stream",
          "name": "stdout",
          "text": [
            "Mounted at /content/drive\n",
            "\u001b[0m\u001b[01;34mMyDrive\u001b[0m/\n"
          ]
        }
      ]
    },
    {
      "cell_type": "code",
      "source": [
        "%ls /content/drive/MyDrive/ColabNotebooks/PermaFrostProjData/"
      ],
      "metadata": {
        "id": "dbJc2_aXAiyq",
        "colab": {
          "base_uri": "https://localhost:8080/"
        },
        "outputId": "bb659803-8a99-4573-967a-c902821be3e4"
      },
      "execution_count": 2,
      "outputs": [
        {
          "output_type": "stream",
          "name": "stdout",
          "text": [
            "Greenland_GTD_noNANallColumns_1997_Pickle.pkl\n",
            "Greenland_GTD_noNANallColumns_1998_Pickle.pkl\n",
            "Greenland_GTD_noNANallColumns_1999_Pickle.pkl\n",
            "Greenland_PFR_ALT_noNANallColumns_1997_Pickle.pkl\n",
            "Greenland_PFR_ALT_noNANallColumns_1998_Pickle.pkl\n",
            "Greenland_PFR_ALT_noNANallColumns_1999_Pickle.pkl\n"
          ]
        }
      ]
    },
    {
      "cell_type": "code",
      "source": [
        "with open('/content/drive/MyDrive/ColabNotebooks/PermaFrostProjData/Greenland_PFR_ALT_noNANallColumns_1997_Pickle.pkl', 'rb') as pickle_file:\n",
        "    dfGreenland_1997 = pickle.load(pickle_file)\n",
        "with open('/content/drive/MyDrive/ColabNotebooks/PermaFrostProjData/Greenland_PFR_ALT_noNANallColumns_1998_Pickle.pkl', 'rb') as pickle_file:\n",
        "    dfGreenland_1998 = pickle.load(pickle_file)\n",
        "with open('/content/drive/MyDrive/ColabNotebooks/PermaFrostProjData/Greenland_PFR_ALT_noNANallColumns_1999_Pickle.pkl', 'rb') as pickle_file:\n",
        "    dfGreenland_1999 = pickle.load(pickle_file)"
      ],
      "metadata": {
        "id": "w_nDqnp-f9lf"
      },
      "execution_count": 4,
      "outputs": []
    },
    {
      "cell_type": "code",
      "source": [
        "# Convert DataFrame to a geoDataFrame\n",
        "gdfGreenland_1997 = gpd.GeoDataFrame( dfGreenland_1997, geometry=gpd.points_from_xy(dfGreenland_1997.x, dfGreenland_1997.y))\n",
        "gdfGreenland_1998 = gpd.GeoDataFrame( dfGreenland_1998, geometry=gpd.points_from_xy(dfGreenland_1998.x, dfGreenland_1998.y))\n",
        "gdfGreenland_1999 = gpd.GeoDataFrame( dfGreenland_1999, geometry=gpd.points_from_xy(dfGreenland_1999.x, dfGreenland_1999.y))"
      ],
      "metadata": {
        "id": "Tmm3xmnXgNqE"
      },
      "execution_count": 5,
      "outputs": []
    },
    {
      "cell_type": "code",
      "source": [
        "#dtale.show(gdfGreenland_1998 )"
      ],
      "metadata": {
        "id": "nkcaZe0FXkrt"
      },
      "execution_count": null,
      "outputs": []
    },
    {
      "cell_type": "code",
      "source": [
        "del dfGreenland_1997\n",
        "del dfGreenland_1998\n",
        "del dfGreenland_1999\n",
        "%reset -f Out\n",
        "gc.collect()"
      ],
      "metadata": {
        "id": "nK1cXksF9ENi",
        "colab": {
          "base_uri": "https://localhost:8080/"
        },
        "outputId": "36676f18-7575-4e74-d86b-99773a208e9e"
      },
      "execution_count": 6,
      "outputs": [
        {
          "output_type": "stream",
          "name": "stdout",
          "text": [
            "Flushing output cache (0 entries)\n"
          ]
        },
        {
          "output_type": "execute_result",
          "data": {
            "text/plain": [
              "0"
            ]
          },
          "metadata": {},
          "execution_count": 6
        }
      ]
    },
    {
      "cell_type": "code",
      "source": [
        "gdfGreenland_1997['time'] = gdfGreenland_1997['time'].apply(lambda x: x.year) # Converts Timestamp object to just year ints\n",
        "gdfGreenland_1998['time'] = gdfGreenland_1998['time'].apply(lambda x: x.year) # Converts Timestamp object to just year ints\n",
        "gdfGreenland_1999['time'] = gdfGreenland_1999['time'].apply(lambda x: x.year) # Converts Timestamp object to just year ints"
      ],
      "metadata": {
        "id": "m7mAWNoekOY0"
      },
      "execution_count": 7,
      "outputs": []
    },
    {
      "cell_type": "code",
      "source": [
        "gdfGreenland = pd.concat([gdfGreenland_1997, gdfGreenland_1998, gdfGreenland_1999], axis=0)"
      ],
      "metadata": {
        "id": "hWcHWarpUH1Z"
      },
      "execution_count": 11,
      "outputs": []
    },
    {
      "cell_type": "code",
      "source": [
        "del gdfGreenland_1997\n",
        "del gdfGreenland_1998\n",
        "del gdfGreenland_1999\n",
        "%reset -f Out\n",
        "gc.collect()"
      ],
      "metadata": {
        "colab": {
          "base_uri": "https://localhost:8080/"
        },
        "id": "KBNWJmXKLgzD",
        "outputId": "04639f44-990b-4a31-dfaf-93897d9c3fd3"
      },
      "execution_count": 12,
      "outputs": [
        {
          "output_type": "stream",
          "name": "stdout",
          "text": [
            "Flushing output cache (1 entries)\n"
          ]
        },
        {
          "output_type": "execute_result",
          "data": {
            "text/plain": [
              "0"
            ]
          },
          "metadata": {},
          "execution_count": 12
        }
      ]
    },
    {
      "cell_type": "code",
      "source": [
        "from pandas.plotting import scatter_matrix\n",
        "from sklearn.preprocessing import StandardScaler\n",
        "\n",
        "attributes = [\"PFR\", \"ALT\"]\n",
        "X = gdfGreenland[attributes]\n",
        "scaler = StandardScaler()\n",
        "X_scaled = scaler.fit_transform(X)\n",
        "print(X)\n",
        "print(X_scaled)"
      ],
      "metadata": {
        "id": "H6Nxu_UBNFyJ",
        "colab": {
          "base_uri": "https://localhost:8080/"
        },
        "outputId": "5207fb76-884b-4eaa-8f90-430cf7fb93a8"
      },
      "execution_count": 13,
      "outputs": [
        {
          "output_type": "stream",
          "name": "stdout",
          "text": [
            "            PFR   ALT\n",
            "40361214  100.0  0.37\n",
            "40361215  100.0  0.33\n",
            "40361216  100.0  0.33\n",
            "40361217  100.0  0.10\n",
            "40361218  100.0  0.11\n",
            "...         ...   ...\n",
            "65085605   43.0  1.30\n",
            "65085606   57.0  1.05\n",
            "65085607   86.0  1.03\n",
            "65095959   43.0  0.77\n",
            "65095960   86.0  1.08\n",
            "\n",
            "[1743726 rows x 2 columns]\n",
            "[[ 0.31901532  0.10635175]\n",
            " [ 0.31901532 -0.03097247]\n",
            " [ 0.31901532 -0.03097247]\n",
            " ...\n",
            " [-0.44424516  2.3722    ]\n",
            " [-2.7885454   1.4795932 ]\n",
            " [-0.44424516  2.543855  ]]\n"
          ]
        }
      ]
    },
    {
      "cell_type": "code",
      "source": [
        "gdfGreenland_scaled = pd.DataFrame(X_scaled, columns = attributes)\n",
        "scatter_matrix(gdfGreenland[attributes], figsize=(12, 8))\n",
        "\n",
        "plt.show()\n",
        "#ax = gdfGreenland.plot(figsize=(11,10), alpha=0.9)\n",
        "#ax.set_ylim([-2.2e6, -1.9e6])\n",
        "#ax.set_xlim([-1.1e6, -0.8e6]"
      ],
      "metadata": {
        "id": "qau0O7wP8IuQ",
        "colab": {
          "base_uri": "https://localhost:8080/",
          "height": 240
        },
        "outputId": "d0b58549-3c35-4eb5-ea9c-e180307db485"
      },
      "execution_count": 3,
      "outputs": [
        {
          "output_type": "error",
          "ename": "NameError",
          "evalue": "ignored",
          "traceback": [
            "\u001b[0;31m---------------------------------------------------------------------------\u001b[0m",
            "\u001b[0;31mNameError\u001b[0m                                 Traceback (most recent call last)",
            "\u001b[0;32m<ipython-input-3-f06444e2eb21>\u001b[0m in \u001b[0;36m<module>\u001b[0;34m\u001b[0m\n\u001b[0;32m----> 1\u001b[0;31m \u001b[0mgdfGreenland_scaled\u001b[0m \u001b[0;34m=\u001b[0m \u001b[0mpd\u001b[0m\u001b[0;34m.\u001b[0m\u001b[0mDataFrame\u001b[0m\u001b[0;34m(\u001b[0m\u001b[0mX_scaled\u001b[0m\u001b[0;34m,\u001b[0m \u001b[0mcolumns\u001b[0m \u001b[0;34m=\u001b[0m \u001b[0mattributes\u001b[0m\u001b[0;34m)\u001b[0m\u001b[0;34m\u001b[0m\u001b[0;34m\u001b[0m\u001b[0m\n\u001b[0m\u001b[1;32m      2\u001b[0m \u001b[0mscatter_matrix\u001b[0m\u001b[0;34m(\u001b[0m\u001b[0mgdfGreenland\u001b[0m\u001b[0;34m[\u001b[0m\u001b[0mattributes\u001b[0m\u001b[0;34m]\u001b[0m\u001b[0;34m,\u001b[0m \u001b[0mfigsize\u001b[0m\u001b[0;34m=\u001b[0m\u001b[0;34m(\u001b[0m\u001b[0;36m12\u001b[0m\u001b[0;34m,\u001b[0m \u001b[0;36m8\u001b[0m\u001b[0;34m)\u001b[0m\u001b[0;34m)\u001b[0m\u001b[0;34m\u001b[0m\u001b[0;34m\u001b[0m\u001b[0m\n\u001b[1;32m      3\u001b[0m \u001b[0;34m\u001b[0m\u001b[0m\n\u001b[1;32m      4\u001b[0m \u001b[0mplt\u001b[0m\u001b[0;34m.\u001b[0m\u001b[0mshow\u001b[0m\u001b[0;34m(\u001b[0m\u001b[0;34m)\u001b[0m\u001b[0;34m\u001b[0m\u001b[0;34m\u001b[0m\u001b[0m\n\u001b[1;32m      5\u001b[0m \u001b[0;31m#ax = gdfGreenland.plot(figsize=(11,10), alpha=0.9)\u001b[0m\u001b[0;34m\u001b[0m\u001b[0;34m\u001b[0m\u001b[0;34m\u001b[0m\u001b[0m\n",
            "\u001b[0;31mNameError\u001b[0m: name 'X_scaled' is not defined"
          ]
        }
      ]
    },
    {
      "cell_type": "code",
      "source": [
        "gdfGreenland.head() "
      ],
      "metadata": {
        "colab": {
          "base_uri": "https://localhost:8080/",
          "height": 206
        },
        "id": "ZKIh4k_qxogm",
        "outputId": "99fc597b-af3c-43cd-c727-f01ce024c94a"
      },
      "execution_count": 16,
      "outputs": [
        {
          "output_type": "execute_result",
          "data": {
            "text/plain": [
              "          time             x              y  polar_stereographic    PFR   ALT  \\\n",
              "40361214  1997 -2.499489e+06 -722089.666285          -2147483647  100.0  0.37   \n",
              "40361215  1997 -2.499489e+06 -723016.291719          -2147483647  100.0  0.33   \n",
              "40361216  1997 -2.499489e+06 -723942.917152          -2147483647  100.0  0.33   \n",
              "40361217  1997 -2.499489e+06 -724869.542585          -2147483647  100.0  0.10   \n",
              "40361218  1997 -2.499489e+06 -725796.168018          -2147483647  100.0  0.11   \n",
              "\n",
              "                                  geometry  \n",
              "40361214  POINT (-2499489.284 -722089.666)  \n",
              "40361215  POINT (-2499489.284 -723016.292)  \n",
              "40361216  POINT (-2499489.284 -723942.917)  \n",
              "40361217  POINT (-2499489.284 -724869.543)  \n",
              "40361218  POINT (-2499489.284 -725796.168)  "
            ],
            "text/html": [
              "\n",
              "  <div id=\"df-9daf603c-4f62-46a7-b948-1db9a6b85a3d\">\n",
              "    <div class=\"colab-df-container\">\n",
              "      <div>\n",
              "<style scoped>\n",
              "    .dataframe tbody tr th:only-of-type {\n",
              "        vertical-align: middle;\n",
              "    }\n",
              "\n",
              "    .dataframe tbody tr th {\n",
              "        vertical-align: top;\n",
              "    }\n",
              "\n",
              "    .dataframe thead th {\n",
              "        text-align: right;\n",
              "    }\n",
              "</style>\n",
              "<table border=\"1\" class=\"dataframe\">\n",
              "  <thead>\n",
              "    <tr style=\"text-align: right;\">\n",
              "      <th></th>\n",
              "      <th>time</th>\n",
              "      <th>x</th>\n",
              "      <th>y</th>\n",
              "      <th>polar_stereographic</th>\n",
              "      <th>PFR</th>\n",
              "      <th>ALT</th>\n",
              "      <th>geometry</th>\n",
              "    </tr>\n",
              "  </thead>\n",
              "  <tbody>\n",
              "    <tr>\n",
              "      <th>40361214</th>\n",
              "      <td>1997</td>\n",
              "      <td>-2.499489e+06</td>\n",
              "      <td>-722089.666285</td>\n",
              "      <td>-2147483647</td>\n",
              "      <td>100.0</td>\n",
              "      <td>0.37</td>\n",
              "      <td>POINT (-2499489.284 -722089.666)</td>\n",
              "    </tr>\n",
              "    <tr>\n",
              "      <th>40361215</th>\n",
              "      <td>1997</td>\n",
              "      <td>-2.499489e+06</td>\n",
              "      <td>-723016.291719</td>\n",
              "      <td>-2147483647</td>\n",
              "      <td>100.0</td>\n",
              "      <td>0.33</td>\n",
              "      <td>POINT (-2499489.284 -723016.292)</td>\n",
              "    </tr>\n",
              "    <tr>\n",
              "      <th>40361216</th>\n",
              "      <td>1997</td>\n",
              "      <td>-2.499489e+06</td>\n",
              "      <td>-723942.917152</td>\n",
              "      <td>-2147483647</td>\n",
              "      <td>100.0</td>\n",
              "      <td>0.33</td>\n",
              "      <td>POINT (-2499489.284 -723942.917)</td>\n",
              "    </tr>\n",
              "    <tr>\n",
              "      <th>40361217</th>\n",
              "      <td>1997</td>\n",
              "      <td>-2.499489e+06</td>\n",
              "      <td>-724869.542585</td>\n",
              "      <td>-2147483647</td>\n",
              "      <td>100.0</td>\n",
              "      <td>0.10</td>\n",
              "      <td>POINT (-2499489.284 -724869.543)</td>\n",
              "    </tr>\n",
              "    <tr>\n",
              "      <th>40361218</th>\n",
              "      <td>1997</td>\n",
              "      <td>-2.499489e+06</td>\n",
              "      <td>-725796.168018</td>\n",
              "      <td>-2147483647</td>\n",
              "      <td>100.0</td>\n",
              "      <td>0.11</td>\n",
              "      <td>POINT (-2499489.284 -725796.168)</td>\n",
              "    </tr>\n",
              "  </tbody>\n",
              "</table>\n",
              "</div>\n",
              "      <button class=\"colab-df-convert\" onclick=\"convertToInteractive('df-9daf603c-4f62-46a7-b948-1db9a6b85a3d')\"\n",
              "              title=\"Convert this dataframe to an interactive table.\"\n",
              "              style=\"display:none;\">\n",
              "        \n",
              "  <svg xmlns=\"http://www.w3.org/2000/svg\" height=\"24px\"viewBox=\"0 0 24 24\"\n",
              "       width=\"24px\">\n",
              "    <path d=\"M0 0h24v24H0V0z\" fill=\"none\"/>\n",
              "    <path d=\"M18.56 5.44l.94 2.06.94-2.06 2.06-.94-2.06-.94-.94-2.06-.94 2.06-2.06.94zm-11 1L8.5 8.5l.94-2.06 2.06-.94-2.06-.94L8.5 2.5l-.94 2.06-2.06.94zm10 10l.94 2.06.94-2.06 2.06-.94-2.06-.94-.94-2.06-.94 2.06-2.06.94z\"/><path d=\"M17.41 7.96l-1.37-1.37c-.4-.4-.92-.59-1.43-.59-.52 0-1.04.2-1.43.59L10.3 9.45l-7.72 7.72c-.78.78-.78 2.05 0 2.83L4 21.41c.39.39.9.59 1.41.59.51 0 1.02-.2 1.41-.59l7.78-7.78 2.81-2.81c.8-.78.8-2.07 0-2.86zM5.41 20L4 18.59l7.72-7.72 1.47 1.35L5.41 20z\"/>\n",
              "  </svg>\n",
              "      </button>\n",
              "      \n",
              "  <style>\n",
              "    .colab-df-container {\n",
              "      display:flex;\n",
              "      flex-wrap:wrap;\n",
              "      gap: 12px;\n",
              "    }\n",
              "\n",
              "    .colab-df-convert {\n",
              "      background-color: #E8F0FE;\n",
              "      border: none;\n",
              "      border-radius: 50%;\n",
              "      cursor: pointer;\n",
              "      display: none;\n",
              "      fill: #1967D2;\n",
              "      height: 32px;\n",
              "      padding: 0 0 0 0;\n",
              "      width: 32px;\n",
              "    }\n",
              "\n",
              "    .colab-df-convert:hover {\n",
              "      background-color: #E2EBFA;\n",
              "      box-shadow: 0px 1px 2px rgba(60, 64, 67, 0.3), 0px 1px 3px 1px rgba(60, 64, 67, 0.15);\n",
              "      fill: #174EA6;\n",
              "    }\n",
              "\n",
              "    [theme=dark] .colab-df-convert {\n",
              "      background-color: #3B4455;\n",
              "      fill: #D2E3FC;\n",
              "    }\n",
              "\n",
              "    [theme=dark] .colab-df-convert:hover {\n",
              "      background-color: #434B5C;\n",
              "      box-shadow: 0px 1px 3px 1px rgba(0, 0, 0, 0.15);\n",
              "      filter: drop-shadow(0px 1px 2px rgba(0, 0, 0, 0.3));\n",
              "      fill: #FFFFFF;\n",
              "    }\n",
              "  </style>\n",
              "\n",
              "      <script>\n",
              "        const buttonEl =\n",
              "          document.querySelector('#df-9daf603c-4f62-46a7-b948-1db9a6b85a3d button.colab-df-convert');\n",
              "        buttonEl.style.display =\n",
              "          google.colab.kernel.accessAllowed ? 'block' : 'none';\n",
              "\n",
              "        async function convertToInteractive(key) {\n",
              "          const element = document.querySelector('#df-9daf603c-4f62-46a7-b948-1db9a6b85a3d');\n",
              "          const dataTable =\n",
              "            await google.colab.kernel.invokeFunction('convertToInteractive',\n",
              "                                                     [key], {});\n",
              "          if (!dataTable) return;\n",
              "\n",
              "          const docLinkHtml = 'Like what you see? Visit the ' +\n",
              "            '<a target=\"_blank\" href=https://colab.research.google.com/notebooks/data_table.ipynb>data table notebook</a>'\n",
              "            + ' to learn more about interactive tables.';\n",
              "          element.innerHTML = '';\n",
              "          dataTable['output_type'] = 'display_data';\n",
              "          await google.colab.output.renderOutput(dataTable, element);\n",
              "          const docLink = document.createElement('div');\n",
              "          docLink.innerHTML = docLinkHtml;\n",
              "          element.appendChild(docLink);\n",
              "        }\n",
              "      </script>\n",
              "    </div>\n",
              "  </div>\n",
              "  "
            ]
          },
          "metadata": {},
          "execution_count": 16
        }
      ]
    },
    {
      "cell_type": "code",
      "source": [
        "gdfGreenland[(gdfGreenland['x'] == -2499489.284021524) & (gdfGreenland['y'] == -722089.6662854771)]"
      ],
      "metadata": {
        "colab": {
          "base_uri": "https://localhost:8080/",
          "height": 143
        },
        "id": "JO97dusZF-Pt",
        "outputId": "50453a26-03e2-45bf-9fb9-bcddb7d017d6"
      },
      "execution_count": 34,
      "outputs": [
        {
          "output_type": "execute_result",
          "data": {
            "text/plain": [
              "          time             x              y  polar_stereographic    PFR   ALT  \\\n",
              "40361214  1997 -2.499489e+06 -722089.666285          -2147483647  100.0  0.37   \n",
              "40361214  1998 -2.499489e+06 -722089.666285          -2147483647  100.0  0.50   \n",
              "40361214  1999 -2.499489e+06 -722089.666285          -2147483647  100.0  0.34   \n",
              "\n",
              "                                  geometry  \n",
              "40361214  POINT (-2499489.284 -722089.666)  \n",
              "40361214  POINT (-2499489.284 -722089.666)  \n",
              "40361214  POINT (-2499489.284 -722089.666)  "
            ],
            "text/html": [
              "\n",
              "  <div id=\"df-44a0deba-098d-48be-81fb-7004eccc413b\">\n",
              "    <div class=\"colab-df-container\">\n",
              "      <div>\n",
              "<style scoped>\n",
              "    .dataframe tbody tr th:only-of-type {\n",
              "        vertical-align: middle;\n",
              "    }\n",
              "\n",
              "    .dataframe tbody tr th {\n",
              "        vertical-align: top;\n",
              "    }\n",
              "\n",
              "    .dataframe thead th {\n",
              "        text-align: right;\n",
              "    }\n",
              "</style>\n",
              "<table border=\"1\" class=\"dataframe\">\n",
              "  <thead>\n",
              "    <tr style=\"text-align: right;\">\n",
              "      <th></th>\n",
              "      <th>time</th>\n",
              "      <th>x</th>\n",
              "      <th>y</th>\n",
              "      <th>polar_stereographic</th>\n",
              "      <th>PFR</th>\n",
              "      <th>ALT</th>\n",
              "      <th>geometry</th>\n",
              "    </tr>\n",
              "  </thead>\n",
              "  <tbody>\n",
              "    <tr>\n",
              "      <th>40361214</th>\n",
              "      <td>1997</td>\n",
              "      <td>-2.499489e+06</td>\n",
              "      <td>-722089.666285</td>\n",
              "      <td>-2147483647</td>\n",
              "      <td>100.0</td>\n",
              "      <td>0.37</td>\n",
              "      <td>POINT (-2499489.284 -722089.666)</td>\n",
              "    </tr>\n",
              "    <tr>\n",
              "      <th>40361214</th>\n",
              "      <td>1998</td>\n",
              "      <td>-2.499489e+06</td>\n",
              "      <td>-722089.666285</td>\n",
              "      <td>-2147483647</td>\n",
              "      <td>100.0</td>\n",
              "      <td>0.50</td>\n",
              "      <td>POINT (-2499489.284 -722089.666)</td>\n",
              "    </tr>\n",
              "    <tr>\n",
              "      <th>40361214</th>\n",
              "      <td>1999</td>\n",
              "      <td>-2.499489e+06</td>\n",
              "      <td>-722089.666285</td>\n",
              "      <td>-2147483647</td>\n",
              "      <td>100.0</td>\n",
              "      <td>0.34</td>\n",
              "      <td>POINT (-2499489.284 -722089.666)</td>\n",
              "    </tr>\n",
              "  </tbody>\n",
              "</table>\n",
              "</div>\n",
              "      <button class=\"colab-df-convert\" onclick=\"convertToInteractive('df-44a0deba-098d-48be-81fb-7004eccc413b')\"\n",
              "              title=\"Convert this dataframe to an interactive table.\"\n",
              "              style=\"display:none;\">\n",
              "        \n",
              "  <svg xmlns=\"http://www.w3.org/2000/svg\" height=\"24px\"viewBox=\"0 0 24 24\"\n",
              "       width=\"24px\">\n",
              "    <path d=\"M0 0h24v24H0V0z\" fill=\"none\"/>\n",
              "    <path d=\"M18.56 5.44l.94 2.06.94-2.06 2.06-.94-2.06-.94-.94-2.06-.94 2.06-2.06.94zm-11 1L8.5 8.5l.94-2.06 2.06-.94-2.06-.94L8.5 2.5l-.94 2.06-2.06.94zm10 10l.94 2.06.94-2.06 2.06-.94-2.06-.94-.94-2.06-.94 2.06-2.06.94z\"/><path d=\"M17.41 7.96l-1.37-1.37c-.4-.4-.92-.59-1.43-.59-.52 0-1.04.2-1.43.59L10.3 9.45l-7.72 7.72c-.78.78-.78 2.05 0 2.83L4 21.41c.39.39.9.59 1.41.59.51 0 1.02-.2 1.41-.59l7.78-7.78 2.81-2.81c.8-.78.8-2.07 0-2.86zM5.41 20L4 18.59l7.72-7.72 1.47 1.35L5.41 20z\"/>\n",
              "  </svg>\n",
              "      </button>\n",
              "      \n",
              "  <style>\n",
              "    .colab-df-container {\n",
              "      display:flex;\n",
              "      flex-wrap:wrap;\n",
              "      gap: 12px;\n",
              "    }\n",
              "\n",
              "    .colab-df-convert {\n",
              "      background-color: #E8F0FE;\n",
              "      border: none;\n",
              "      border-radius: 50%;\n",
              "      cursor: pointer;\n",
              "      display: none;\n",
              "      fill: #1967D2;\n",
              "      height: 32px;\n",
              "      padding: 0 0 0 0;\n",
              "      width: 32px;\n",
              "    }\n",
              "\n",
              "    .colab-df-convert:hover {\n",
              "      background-color: #E2EBFA;\n",
              "      box-shadow: 0px 1px 2px rgba(60, 64, 67, 0.3), 0px 1px 3px 1px rgba(60, 64, 67, 0.15);\n",
              "      fill: #174EA6;\n",
              "    }\n",
              "\n",
              "    [theme=dark] .colab-df-convert {\n",
              "      background-color: #3B4455;\n",
              "      fill: #D2E3FC;\n",
              "    }\n",
              "\n",
              "    [theme=dark] .colab-df-convert:hover {\n",
              "      background-color: #434B5C;\n",
              "      box-shadow: 0px 1px 3px 1px rgba(0, 0, 0, 0.15);\n",
              "      filter: drop-shadow(0px 1px 2px rgba(0, 0, 0, 0.3));\n",
              "      fill: #FFFFFF;\n",
              "    }\n",
              "  </style>\n",
              "\n",
              "      <script>\n",
              "        const buttonEl =\n",
              "          document.querySelector('#df-44a0deba-098d-48be-81fb-7004eccc413b button.colab-df-convert');\n",
              "        buttonEl.style.display =\n",
              "          google.colab.kernel.accessAllowed ? 'block' : 'none';\n",
              "\n",
              "        async function convertToInteractive(key) {\n",
              "          const element = document.querySelector('#df-44a0deba-098d-48be-81fb-7004eccc413b');\n",
              "          const dataTable =\n",
              "            await google.colab.kernel.invokeFunction('convertToInteractive',\n",
              "                                                     [key], {});\n",
              "          if (!dataTable) return;\n",
              "\n",
              "          const docLinkHtml = 'Like what you see? Visit the ' +\n",
              "            '<a target=\"_blank\" href=https://colab.research.google.com/notebooks/data_table.ipynb>data table notebook</a>'\n",
              "            + ' to learn more about interactive tables.';\n",
              "          element.innerHTML = '';\n",
              "          dataTable['output_type'] = 'display_data';\n",
              "          await google.colab.output.renderOutput(dataTable, element);\n",
              "          const docLink = document.createElement('div');\n",
              "          docLink.innerHTML = docLinkHtml;\n",
              "          element.appendChild(docLink);\n",
              "        }\n",
              "      </script>\n",
              "    </div>\n",
              "  </div>\n",
              "  "
            ]
          },
          "metadata": {},
          "execution_count": 34
        }
      ]
    },
    {
      "cell_type": "code",
      "source": [
        "# Need to construct a time series dataset, i.e. concat 1997, 1998, and 1999. Might make sense to change time values to ints, i.e. 1998-01-01 to 1998\n",
        "# Want to be able to input a a year and location ('time','x','y') and output predictions for 'ALT','PFR','GST',and 'Txm'\n",
        "\n",
        "\n",
        "from sklearn import linear_model\n",
        "# importing train_test_split from sklearn\n",
        "from sklearn.model_selection import train_test_split\n",
        "\n",
        "# Let's see how correlated these variables are\n",
        "\n",
        "X = gdfGreenland[['time','x', 'y']]\n",
        "#y_GST = gdfGreenland['GST']\n",
        "#y_ALT = gdfGreenland['ALT']\n",
        "y_PFR = gdfGreenland['PFR']\n",
        "#y_T1m = gdfGreenland['T1m']\n",
        "#y_T2m = gdfGreenland['T2m']\n",
        "#y_T5m = gdfGreenland['T5m']\n",
        "#y_T10m = gdfGreenland['T10m']\n",
        "\n",
        "# splitting the data\n",
        "#X_train, X_test, y_train, y_test = train_test_split(X, y_PFR, test_size = 0.2, random_state = 42)\n",
        "\n",
        "#regr_GST = linear_model.LinearRegression()\n",
        "#regr_GST.fit(X_train, y_train)\n",
        "\n",
        "#regr_ALT = linear_model.LinearRegression()\n",
        "#regr_ALT.fit(X, y_ALT)\n",
        "#regr_PFR = linear_model.LinearRegression()\n",
        "#regr_PFR.fit(X, y_PFR)\n",
        "#regr_T1m = linear_model.LinearRegression()\n",
        "#regr_T1m.fit(X, y_T1m)\n",
        "#regr_T2m = linear_model.LinearRegression()\n",
        "#regr_T2m.fit(X, y_T2m)\n",
        "#regr_T5m = linear_model.LinearRegression()\n",
        "#regr_T5m.fit(X, y_T5m)\n",
        "#regr_T10m = linear_model.LinearRegression()\n",
        "#regr_T10m.fit(X, y_T10m)\n",
        "\n",
        "#print('GST: ' + str(regr_GST.predict([[Year, Lat, Long])))\n",
        "\n",
        "#def IsItMelty(Year, Lat, Long) :\n",
        "#  print('GST: ' + str(regr_GST.predict([[Year, Lat, Long])))\n",
        "#  print('ALT: ' + str(regr_ALT.predict([[Year, Lat, Long])))\n",
        "#  print('PFR: ' + str(regr_PFR.predict([[Year, Lat, Long])))\n",
        "#  print('T1m: ' + str(regr_T1m.predict([[Year, Lat, Long])))\n",
        "#  print('T2m: ' + str(regr_T2m.predict([[Year, Lat, Long])))\n",
        "#  print('T5m: ' + str(regr_T5m.predict([[Year, Lat, Long])))\n",
        "#  print('T10m: ' + str(regr_T10m.predict([[Year, Lat, Long])))"
      ],
      "metadata": {
        "id": "ypnV91N5eNF1"
      },
      "execution_count": 17,
      "outputs": []
    },
    {
      "cell_type": "code",
      "source": [
        "X_train.head()"
      ],
      "metadata": {
        "colab": {
          "base_uri": "https://localhost:8080/",
          "height": 206
        },
        "id": "ssifoSPzD92r",
        "outputId": "0004f0fd-46d2-4dcf-f8d9-506796f8f621"
      },
      "execution_count": 20,
      "outputs": [
        {
          "output_type": "execute_result",
          "data": {
            "text/plain": [
              "          time             x             y\n",
              "41096488  1999 -2.433699e+06 -9.176076e+05\n",
              "42255857  1997 -2.329917e+06 -7.628612e+05\n",
              "44978424  1999 -2.086214e+06 -5.108191e+05\n",
              "44265431  1999 -2.150151e+06 -1.774736e+06\n",
              "47494115  1999 -1.861044e+06 -4.292760e+05"
            ],
            "text/html": [
              "\n",
              "  <div id=\"df-eb6cefe9-a01a-4ed3-9708-fc031dead680\">\n",
              "    <div class=\"colab-df-container\">\n",
              "      <div>\n",
              "<style scoped>\n",
              "    .dataframe tbody tr th:only-of-type {\n",
              "        vertical-align: middle;\n",
              "    }\n",
              "\n",
              "    .dataframe tbody tr th {\n",
              "        vertical-align: top;\n",
              "    }\n",
              "\n",
              "    .dataframe thead th {\n",
              "        text-align: right;\n",
              "    }\n",
              "</style>\n",
              "<table border=\"1\" class=\"dataframe\">\n",
              "  <thead>\n",
              "    <tr style=\"text-align: right;\">\n",
              "      <th></th>\n",
              "      <th>time</th>\n",
              "      <th>x</th>\n",
              "      <th>y</th>\n",
              "    </tr>\n",
              "  </thead>\n",
              "  <tbody>\n",
              "    <tr>\n",
              "      <th>41096488</th>\n",
              "      <td>1999</td>\n",
              "      <td>-2.433699e+06</td>\n",
              "      <td>-9.176076e+05</td>\n",
              "    </tr>\n",
              "    <tr>\n",
              "      <th>42255857</th>\n",
              "      <td>1997</td>\n",
              "      <td>-2.329917e+06</td>\n",
              "      <td>-7.628612e+05</td>\n",
              "    </tr>\n",
              "    <tr>\n",
              "      <th>44978424</th>\n",
              "      <td>1999</td>\n",
              "      <td>-2.086214e+06</td>\n",
              "      <td>-5.108191e+05</td>\n",
              "    </tr>\n",
              "    <tr>\n",
              "      <th>44265431</th>\n",
              "      <td>1999</td>\n",
              "      <td>-2.150151e+06</td>\n",
              "      <td>-1.774736e+06</td>\n",
              "    </tr>\n",
              "    <tr>\n",
              "      <th>47494115</th>\n",
              "      <td>1999</td>\n",
              "      <td>-1.861044e+06</td>\n",
              "      <td>-4.292760e+05</td>\n",
              "    </tr>\n",
              "  </tbody>\n",
              "</table>\n",
              "</div>\n",
              "      <button class=\"colab-df-convert\" onclick=\"convertToInteractive('df-eb6cefe9-a01a-4ed3-9708-fc031dead680')\"\n",
              "              title=\"Convert this dataframe to an interactive table.\"\n",
              "              style=\"display:none;\">\n",
              "        \n",
              "  <svg xmlns=\"http://www.w3.org/2000/svg\" height=\"24px\"viewBox=\"0 0 24 24\"\n",
              "       width=\"24px\">\n",
              "    <path d=\"M0 0h24v24H0V0z\" fill=\"none\"/>\n",
              "    <path d=\"M18.56 5.44l.94 2.06.94-2.06 2.06-.94-2.06-.94-.94-2.06-.94 2.06-2.06.94zm-11 1L8.5 8.5l.94-2.06 2.06-.94-2.06-.94L8.5 2.5l-.94 2.06-2.06.94zm10 10l.94 2.06.94-2.06 2.06-.94-2.06-.94-.94-2.06-.94 2.06-2.06.94z\"/><path d=\"M17.41 7.96l-1.37-1.37c-.4-.4-.92-.59-1.43-.59-.52 0-1.04.2-1.43.59L10.3 9.45l-7.72 7.72c-.78.78-.78 2.05 0 2.83L4 21.41c.39.39.9.59 1.41.59.51 0 1.02-.2 1.41-.59l7.78-7.78 2.81-2.81c.8-.78.8-2.07 0-2.86zM5.41 20L4 18.59l7.72-7.72 1.47 1.35L5.41 20z\"/>\n",
              "  </svg>\n",
              "      </button>\n",
              "      \n",
              "  <style>\n",
              "    .colab-df-container {\n",
              "      display:flex;\n",
              "      flex-wrap:wrap;\n",
              "      gap: 12px;\n",
              "    }\n",
              "\n",
              "    .colab-df-convert {\n",
              "      background-color: #E8F0FE;\n",
              "      border: none;\n",
              "      border-radius: 50%;\n",
              "      cursor: pointer;\n",
              "      display: none;\n",
              "      fill: #1967D2;\n",
              "      height: 32px;\n",
              "      padding: 0 0 0 0;\n",
              "      width: 32px;\n",
              "    }\n",
              "\n",
              "    .colab-df-convert:hover {\n",
              "      background-color: #E2EBFA;\n",
              "      box-shadow: 0px 1px 2px rgba(60, 64, 67, 0.3), 0px 1px 3px 1px rgba(60, 64, 67, 0.15);\n",
              "      fill: #174EA6;\n",
              "    }\n",
              "\n",
              "    [theme=dark] .colab-df-convert {\n",
              "      background-color: #3B4455;\n",
              "      fill: #D2E3FC;\n",
              "    }\n",
              "\n",
              "    [theme=dark] .colab-df-convert:hover {\n",
              "      background-color: #434B5C;\n",
              "      box-shadow: 0px 1px 3px 1px rgba(0, 0, 0, 0.15);\n",
              "      filter: drop-shadow(0px 1px 2px rgba(0, 0, 0, 0.3));\n",
              "      fill: #FFFFFF;\n",
              "    }\n",
              "  </style>\n",
              "\n",
              "      <script>\n",
              "        const buttonEl =\n",
              "          document.querySelector('#df-eb6cefe9-a01a-4ed3-9708-fc031dead680 button.colab-df-convert');\n",
              "        buttonEl.style.display =\n",
              "          google.colab.kernel.accessAllowed ? 'block' : 'none';\n",
              "\n",
              "        async function convertToInteractive(key) {\n",
              "          const element = document.querySelector('#df-eb6cefe9-a01a-4ed3-9708-fc031dead680');\n",
              "          const dataTable =\n",
              "            await google.colab.kernel.invokeFunction('convertToInteractive',\n",
              "                                                     [key], {});\n",
              "          if (!dataTable) return;\n",
              "\n",
              "          const docLinkHtml = 'Like what you see? Visit the ' +\n",
              "            '<a target=\"_blank\" href=https://colab.research.google.com/notebooks/data_table.ipynb>data table notebook</a>'\n",
              "            + ' to learn more about interactive tables.';\n",
              "          element.innerHTML = '';\n",
              "          dataTable['output_type'] = 'display_data';\n",
              "          await google.colab.output.renderOutput(dataTable, element);\n",
              "          const docLink = document.createElement('div');\n",
              "          docLink.innerHTML = docLinkHtml;\n",
              "          element.appendChild(docLink);\n",
              "        }\n",
              "      </script>\n",
              "    </div>\n",
              "  </div>\n",
              "  "
            ]
          },
          "metadata": {},
          "execution_count": 20
        }
      ]
    },
    {
      "cell_type": "code",
      "source": [
        "y_train.head()"
      ],
      "metadata": {
        "colab": {
          "base_uri": "https://localhost:8080/"
        },
        "id": "up11DSXWEhiF",
        "outputId": "4f770c17-cb85-4c2b-eb0c-dbf9cbf82991"
      },
      "execution_count": 19,
      "outputs": [
        {
          "output_type": "execute_result",
          "data": {
            "text/plain": [
              "41096488    100.0\n",
              "42255857    100.0\n",
              "44978424    100.0\n",
              "44265431     71.0\n",
              "47494115    100.0\n",
              "Name: PFR, dtype: float32"
            ]
          },
          "metadata": {},
          "execution_count": 19
        }
      ]
    },
    {
      "cell_type": "code",
      "source": [
        "%mkdir GlacierBaseMap\n",
        "%mkdir CoastLineBaseMap"
      ],
      "metadata": {
        "id": "670vx7bMTyP1"
      },
      "execution_count": null,
      "outputs": []
    },
    {
      "cell_type": "code",
      "source": [
        "%ls"
      ],
      "metadata": {
        "id": "e4bGpLwUgowq"
      },
      "execution_count": null,
      "outputs": []
    },
    {
      "cell_type": "code",
      "source": [
        "# Upload Greenland_noNANallColumns_2018_Pickle.pkl here\n",
        "#from google.colab import files\n",
        "#uploaded = files.upload()"
      ],
      "metadata": {
        "id": "bGzaLO3LfVa0"
      },
      "execution_count": null,
      "outputs": []
    },
    {
      "cell_type": "code",
      "source": [
        "print(gdfGreenland_unpickle.head(10))"
      ],
      "metadata": {
        "id": "6jWZ2RRFF9PE"
      },
      "execution_count": null,
      "outputs": []
    },
    {
      "cell_type": "code",
      "source": [
        "print(gdfGreenland.head())\n",
        "print(gdfGreenland.tail())"
      ],
      "metadata": {
        "id": "plHlw65Qx7qK"
      },
      "execution_count": null,
      "outputs": []
    },
    {
      "cell_type": "code",
      "source": [
        "#glaciers = gpd.read_file('./GlacierBaseMap/jf791qw8489.shp') #2017 dataset\n",
        "#glaciers = glaciers[glaciers.cenlat > 67.9][glaciers.cenlat < 70.83][glaciers.cenlon > -31.5][glaciers.cenlon < -20.57]\n",
        "\n",
        "#coastlines = gpd.read_file('./CoastLineBaseMap/sd368wz2435.shp')\n",
        "#glaciers = glaciers.to_crs(\"EPSG:3995\") # world.to_crs(epsg=3395) would also work\n",
        "#coastlines = coastlines.to_crs(\"EPSG:3995\") # world.to_crs(epsg=3395) would also work\n",
        "\n",
        "gdfGreenland.crs = \"EPSG:3995\"\n",
        "#gdfGreenland1997.crs = \"EPSG:3995\"\n",
        "\n",
        "ax = gdfGreenland.plot(figsize=(11,10), alpha=0.9)\n",
        "#ax = glaciers.plot(figsize=(11,10), alpha=0.9)\n",
        "ax.set_title(\"Greenland\")\n",
        "ax.set_ylim([-2.2e6, -1.9e6])\n",
        "ax.set_xlim([-1.1e6, -0.8e6])\n",
        "\n",
        "#coastlines.boundary.plot(ax=ax,color='black', alpha=0.6, zorder=1)\n",
        "#gdfGreenland_unpickle.plot(ax=ax, column='T10m', markersize=0.5, cmap=\"plasma\", legend=True, alpha=0.7)\n",
        "#gdfGreenland_unpickle.plot(ax=ax, column='GST ', markersize=0.5, cmap=\"plasma\", vmin=45.0, legend=True, alpha=0.7)\n",
        "#gdfGreenland1997.plot(ax=ax, column='PFR', markersize=0.5, cmap=\"plasma\", vmin=45.0, legend=True, alpha=0.7)\n",
        "gdfGreenland.plot(ax=ax, column=\"PFR\", markersize=0.5, cmap=\"plasma\", vmin=45.0, legend=True, alpha=0.7)\n",
        "\n",
        "plt.show()"
      ],
      "metadata": {
        "id": "cZrjptoeri-0",
        "colab": {
          "base_uri": "https://localhost:8080/",
          "height": 582
        },
        "outputId": "9915ed02-dd58-4ff0-ea1c-934a32ddb8be"
      },
      "execution_count": null,
      "outputs": [
        {
          "output_type": "display_data",
          "data": {
            "text/plain": [
              "<Figure size 792x720 with 2 Axes>"
            ],
            "image/png": "[encoded data removed]"
          },
          "metadata": {
            "needs_background": "light"
          }
        }
      ]
    },
    {
      "cell_type": "code",
      "source": [
        "map = folium.Map(location = [13.406,80.110], tiles = \"Stamen Terrain\", zoom_start = 9)\n",
        "map"
      ],
      "metadata": {
        "id": "sA1EjqyQIoUs"
      },
      "execution_count": null,
      "outputs": []
    },
    {
      "cell_type": "code",
      "source": [
        "gdfGreenland.head()\n",
        "gdfGreenland.plot(ax=ax, column='PFR', markersize=0.5, alpha=0.7)\n",
        "plt.show()"
      ],
      "metadata": {
        "id": "mOsAshZT6d-0"
      },
      "execution_count": null,
      "outputs": []
    },
    {
      "cell_type": "code",
      "source": [
        "print(gdfGreenland.crs)"
      ],
      "metadata": {
        "id": "X98mxQAS2AYy"
      },
      "execution_count": null,
      "outputs": []
    }
  ]
}