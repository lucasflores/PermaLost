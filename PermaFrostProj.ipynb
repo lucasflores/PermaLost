{
  "nbformat": 4,
  "nbformat_minor": 0,
  "metadata": {
    "colab": {
      "name": "PermaFrostProj.ipynb",
      "provenance": [],
      "collapsed_sections": [],
      "authorship_tag": "ABX9TyN6IxOKJ+OIvdMkwP5dsNey",
      "include_colab_link": true
    },
    "kernelspec": {
      "name": "python3",
      "display_name": "Python 3"
    },
    "language_info": {
      "name": "python"
    }
  },
  "cells": [
    {
      "cell_type": "markdown",
      "metadata": {
        "id": "view-in-github",
        "colab_type": "text"
      },
      "source": [
        "<a href=\"https://colab.research.google.com/github/lucasflores/PermaLost/blob/main/PermaFrostProj.ipynb\" target=\"_parent\"><img src=\"https://colab.research.google.com/assets/colab-badge.svg\" alt=\"Open In Colab\"/></a>"
      ]
    },
    {
      "cell_type": "markdown",
      "source": [
        "\n",
        "#Permafrost Project\n",
        "\n",
        "## The Problem\n",
        "\n",
        "Melty melt leads to decay of 'soft' artifacts -> race to save these from decay/rot\n",
        "\n",
        "## The Project\n",
        "\n",
        "In this project I will use permafrost data provided by the European Space Agency's (ESA) Climate Change Initiative (CCI) Permafrost project.  It is derived from a thermal model driven and constrained by satellite data.\n",
        "\n",
        "## Data Types\n",
        "* **GTD** Ground temp (by depth)\n",
        "* **PFR** Permafrost extent\n",
        "* **ALT** Active Layer Thickness\n",
        "\n",
        "This corresponds to average annual ground temperatures and is provided for specific depths (surface, 1m, 2m, 5m , 10m)\n",
        "\n",
        "Active Layer Thickness is the thickness of the layer of the ground that is subject to annual thawing and freezing in areas underlain by permafrost. The thickness of the active layer depends on such factors as the ambient air temperature, vegetation, drainage, soil or rock type and total water content, snowcover, and degree and orientation of slope. As a rule, the active layer is thin in the High Arctic (it can be less than 15 cm) and becomes thicker farther south (1 m or more).\n",
        "The thickness of the active layer can vary from year to year, primarily due to variations in the mean annual air temperature, distribution of soil moisture, and snowcover\n",
        "plotHistograms.py\n",
        "\n",
        "Permafrost is an Essential Climate Variable (ECV) within the Global Climate Observing System (GCOS), which is characterized by subsurface temperatures and the depth of the seasonal thaw layer. Complementing ground-based monitoring networks, the Permafrost CCI project is establishing Earth Observation (EO) based products for the permafrost ECV spanning the last two decades. Since ground temperature and thaw depth cannot be directly observed from space-borne sensors, a variety of satellite and reanalysis data are combined in a ground thermal model. The algorithm uses remotely sensed data sets of Land Surface Temperature (MODIS LST/ ESA LST CCI) and landcover (ESA Landcover CCI) to drive the transient permafrost model CryoGrid CCI, which yields thaw depth and ground temperature at various depths, while ground temperature forms the basis for permafrost fraction.\n",
        "\n"
      ],
      "metadata": {
        "id": "s-KIAJgcIq8k"
      }
    },
    {
      "cell_type": "markdown",
      "source": [
        "### Project Package Dependencies  \n",
        "- pandas \n",
        "- geopandas \n",
        "- matplotlib\n",
        "\n",
        "### ML/Analysis algorithm note\n",
        "* Geographic Weighted Regression seems to be a reasonable start for some predictive analysis via the mgwr python package (more details here https://deepnote.com/@carlos-mendez/PYTHON-GWR-and-MGWR-cd2LqaPqTSibIEHMiigreg)\n",
        "* Might just be useful for interpolation. Not sure if I can do like a time series regression. \n",
        "* gwr/mgwr has a “bandwidth“ parameter which sets the “neighborhood” size to be used for the location based regression. Also it seems to apply some shooting which I should read up more on.  \n",
        "\n",
        "## General Notes\n",
        "### *04/05/22* \n",
        "* Data downloading, combing of separate PFR, ATL, and GTD files, and deleting nan and non Greenland data in dfs (most expensive/longest steps) takes about 1-1.5 hours.\n",
        "* Downloads faster on google cola but not enough RAM to do row dropping computations. Trying to find smart ways to release RAM. Should check in indices of “”Greenland” lat/longs exist in some relatively close range that I can take advantage of so I don’t have to loop through every goddamn instance. \n",
        "* Want to implement a memory profiler as well. "
      ],
      "metadata": {
        "id": "qY2Ned_kNBJi"
      }
    },
    {
      "cell_type": "code",
      "source": [
        "%%time \n",
        "\n",
        "# Important library for many geopython libraries\n",
        "#!apt install gdal-bin python-gdal python3-gdal \n",
        "# Install rtree - Geopandas requirment\n",
        "#!apt install python3-rtree \n",
        "# Install Geopandas\n",
        "!pip install --upgrade geopandas\n",
        "# Install descartes - Geopandas requirment\n",
        "#!pip install descartes \n",
        "# Install Folium for Geographic data visualization\n",
        "#!pip install folium\n",
        "# Install plotlyExpress\n",
        "#!pip install plotly_expres\n",
        "#!pip install mapclassify\n",
        "#!pip install xarray\n",
        "!pip install folium matplotlib mapclassify\n",
        "!pip3 install pickle5\n",
        "!pip install wget"
      ],
      "metadata": {
        "id": "ayakbaN2F9MO"
      },
      "execution_count": null,
      "outputs": []
    },
    {
      "cell_type": "code",
      "execution_count": 3,
      "metadata": {
        "id": "quYKUmQLdRxm"
      },
      "outputs": [],
      "source": [
        "import os\n",
        "import pandas as pd\n",
        "import sklearn\n",
        "import numpy as np\n",
        "%matplotlib inline\n",
        "import matplotlib as mpl\n",
        "import matplotlib.pyplot as plt\n",
        "#import pickle5 as pickle\n",
        "import geopandas as gpd\n",
        "from shapely.geometry import Point\n",
        "import folium\n",
        "import wget\n",
        "import xarray as xr\n",
        "import gc   #garbage collector interface"
      ]
    },
    {
      "cell_type": "markdown",
      "source": [
        "# Get The Data"
      ],
      "metadata": {
        "id": "J80kN1TDTHUm"
      }
    },
    {
      "cell_type": "code",
      "source": [
        "gc.collect()"
      ],
      "metadata": {
        "id": "M_4Yx661jS8T",
        "colab": {
          "base_uri": "https://localhost:8080/"
        },
        "outputId": "83d2e37a-6fc1-4171-c03a-2c66ee40e683"
      },
      "execution_count": 4,
      "outputs": [
        {
          "output_type": "execute_result",
          "data": {
            "text/plain": [
              "350"
            ]
          },
          "metadata": {},
          "execution_count": 4
        }
      ]
    },
    {
      "cell_type": "code",
      "source": [
        "def huge_intermediate_calc(dfPFR):\n",
        "  dfPFR.drop(dfPFR[dfPFR['x'] < -2500000.0].index, inplace=True)\n",
        "  print('poop55')\n",
        "  print('poop22')\n",
        "  print('poop45')\n",
        "  print('poop23')\n",
        "  dfPFR.drop(dfPFR[dfPFR['x'] > 4000000.0].index, inplace=True)\n",
        "  return dfPFR\n",
        "\n",
        "import multiprocessing\n",
        "import argparse\n",
        "\n",
        "#for year in ['1997','1998','1999']:\n",
        "#parser = argparse.ArgumentParser(description=\"%prog [options]\", formatter_class=argparse.ArgumentDefaultsHelpFormatter)\n",
        "#parser.add_argument(\"-selectGreenland_to_pickle\", dest='selectGreenland_to_pickle', action='store_true', default=False, help=\"\")\n",
        "#parser.add_argument(\"-havePickle\", dest='havePickle', action='store_true', default=False, help=\"\")\n",
        "#args = parser.parse_args()\n",
        "\n",
        "selectGreenland_to_pickle=False\n",
        "\n",
        "if selectGreenland_to_pickle :\n",
        "  for year in ['1998']:\n",
        "    ALT = \"https://dap.ceda.ac.uk/neodc/esacci/permafrost/data/active_layer_thickness/L4/area4/pp/v03.0//ESACCI-PERMAFROST-L4-ALT-ERA5_MODISLST_BIASCORRECTED-AREA4_PP-\"+year+\"-fv03.0.nc\"\n",
        "    PFR = \"https://dap.ceda.ac.uk/neodc/esacci/permafrost/data/permafrost_extent/L4/area4/pp/v03.0//ESACCI-PERMAFROST-L4-PFR-ERA5_MODISLST_BIASCORRECTED-AREA4_PP-\"+year+\"-fv03.0.nc\"\n",
        "    GTD = \"https://dap.ceda.ac.uk/neodc/esacci/permafrost/data/ground_temperature/L4/area4/pp/v03.0//ESACCI-PERMAFROST-L4-GTD-ERA5_MODISLST_BIASCORRECTED-AREA4_PP-\"+year+\"-fv03.0.nc\"\n",
        "  \n",
        "    wget.download(PFR, './')\n",
        "    dsPFR = xr.open_dataset('ESACCI-PERMAFROST-L4-PFR-ERA5_MODISLST_BIASCORRECTED-AREA4_PP-'+year+'-fv03.0.nc')\n",
        "    os.remove('ESACCI-PERMAFROST-L4-PFR-ERA5_MODISLST_BIASCORRECTED-AREA4_PP-'+year+'-fv03.0.nc')\n",
        "    dfPFR = dsPFR.to_dataframe()\n",
        "    del dsPFR\n",
        "    %reset Out\n",
        "    gc.collect() #collect the memory garbage\n",
        "    dfPFR = dfPFR.reset_index()\n",
        "    # Restrict to Lat/Long containing Greenland only\n",
        "    #dfPFR = multiprocessing.Pool(1).map(huge_intermediate_calc, [dfPFR])[0]\n",
        "    dfPFR.drop(dfPFR[dfPFR['x'] < -2500000.0].index, inplace=True)\n",
        "    dfPFR.drop(dfPFR[dfPFR['x'] > -274000.0].index, inplace=True)\n",
        "    dfPFR.drop(dfPFR[dfPFR['y'] < -2900000.0].index, inplace=True)\n",
        "    dfPFR.drop(dfPFR[dfPFR['y'] > -420000.0].index, inplace=True)\n",
        "  \n",
        "    wget.download(ALT, './')\n",
        "    dsALT = xr.open_dataset('ESACCI-PERMAFROST-L4-ALT-ERA5_MODISLST_BIASCORRECTED-AREA4_PP-'+year+'-fv03.0.nc')\n",
        "    os.remove('ESACCI-PERMAFROST-L4-ALT-ERA5_MODISLST_BIASCORRECTED-AREA4_PP-'+year+'-fv03.0.nc')\n",
        "    dfALT = dsALT.to_dataframe()\n",
        "    del dsALT\n",
        "    dfALT = dfALT.reset_index()\n",
        "    dfALT = dfALT.drop(dfALT[dfALT['x'] < -2500000.0].index)\n",
        "    dfALT = dfALT.drop(dfALT[dfALT['x'] > -274000.0].index)\n",
        "    dfALT = dfALT.drop(dfALT[dfALT['y'] < -2900000.0].index)\n",
        "    dfALT = dfALT.drop(dfALT[dfALT['y'] > -420000.0].index)\n",
        "  \n",
        "    wget.download(GTD, './')\n",
        "    dsGTD = xr.open_dataset('ESACCI-PERMAFROST-L4-GTD-ERA5_MODISLST_BIASCORRECTED-AREA4_PP-'+year+'-fv03.0.nc')\n",
        "    os.remove('ESACCI-PERMAFROST-L4-GTD-ERA5_MODISLST_BIASCORRECTED-AREA4_PP-'+year+'-fv03.0.nc')\n",
        "    dfGTD = dsGTD.to_dataframe()\n",
        "    del dsGTD\n",
        "    dfGTD = dfGTD.reset_index()\n",
        "    dfGTD = dfGTD.drop(dfGTD[dfGTD['x'] < -2500000.0].index)\n",
        "    dfGTD = dfGTD.drop(dfGTD[dfGTD['x'] > -274000.0].index)\n",
        "    dfGTD = dfGTD.drop(dfGTD[dfGTD['y'] < -2900000.0].index)\n",
        "    dfGTD = dfGTD.drop(dfGTD[dfGTD['y'] > -420000.0].index)\n",
        "  \n",
        "    print('poop0')\n",
        "  \n",
        "    dfGreenland = pd.concat([dfPFR, dfALT['ALT'], dfGTD['GST'], dfGTD['T1m'], dfGTD['T2m'], dfGTD['T5m'], dfGTD['T10m'] ], axis=1)\n",
        "    del dfPFR\n",
        "    del dfALT\n",
        "    del dfGTD\n",
        "    dfGreenland = dfGreenland.dropna(subset=['ALT','GST','T1m','T2m','T5m','T10m'], how='all')\n",
        "    dfGreenland.to_pickle(\"Greenland_noNANallColumns_\"+year+\"_Pickle.pkl\")\n",
        "    gdfGreenland = gpd.GeoDataFrame( dfGreenland, geometry=gpd.points_from_xy(dfGreenland.x, dfGreenland.y))\n",
        "\n",
        "%ls"
      ],
      "metadata": {
        "colab": {
          "base_uri": "https://localhost:8080/"
        },
        "id": "71JDETzNTMhg",
        "outputId": "74053b2f-547e-4082-c0aa-93d3758bc16f"
      },
      "execution_count": 7,
      "outputs": [
        {
          "output_type": "stream",
          "name": "stdout",
          "text": [
            "\u001b[0m\u001b[01;34msample_data\u001b[0m/\n"
          ]
        }
      ]
    },
    {
      "cell_type": "code",
      "source": [
        "%ls"
      ],
      "metadata": {
        "id": "670vx7bMTyP1"
      },
      "execution_count": null,
      "outputs": []
    },
    {
      "cell_type": "code",
      "source": [
        "# Upload Greenland_noNANallColumns_2018_Pickle.pkl here\n",
        "from google.colab import files\n",
        "uploaded = files.upload()"
      ],
      "metadata": {
        "id": "bGzaLO3LfVa0"
      },
      "execution_count": null,
      "outputs": []
    },
    {
      "cell_type": "code",
      "source": [
        "with open('Greenland_noNANallColumns_1997_Pickle.pkl', 'rb') as pickle_file:\n",
        "    dfGreenland = pickle.load(pickle_file)"
      ],
      "metadata": {
        "id": "w_nDqnp-f9lf"
      },
      "execution_count": null,
      "outputs": []
    },
    {
      "cell_type": "code",
      "source": [
        "dfGreenland.head()\n",
        "# Convert DataFrame to a geoDataFrame\n",
        "gdfGreenland = gpd.GeoDataFrame( dfGreenland, geometry=gpd.points_from_xy(dfGreenland.x, dfGreenland.y))"
      ],
      "metadata": {
        "id": "Tmm3xmnXgNqE"
      },
      "execution_count": null,
      "outputs": []
    },
    {
      "cell_type": "code",
      "source": [
        "gdfGreenland.head()"
      ],
      "metadata": {
        "id": "uzYItS9tubqL"
      },
      "execution_count": null,
      "outputs": []
    },
    {
      "cell_type": "code",
      "source": [
        "#world = gpd.read_file(gpd.datasets.get_path('naturalearth_lowres'))\n",
        "world = gpd.read_file('jf791qw8489.shp')\n",
        "world.head()\n",
        "#world = world[(world.name != \"Antarctica\") & (world.name != \"Fr. S. Antarctic Lands\") & (world.name == \"Greenland\")]\n",
        "\n",
        "world = world.to_crs(\"EPSG:3995\") # world.to_crs(epsg=3395) would also work\n",
        "gdfGreenland.crs = \"EPSG:3995\"\n",
        "ax = world.plot(figsize=(24,18))\n",
        "ax.set_title(\"Greenland\")\n",
        "ax.set_ylim([-2.2e6, -1.9e6])\n",
        "ax.set_xlim([-1.1e6, -0.8e6])\n",
        "\n",
        "gdfGreenland_epsg4326 = gdfGreenland.to_crs(\"EPSG:4326\")\n",
        "\n",
        "#world.explore()\n",
        "\n",
        "# We can now plot our ``GeoDataFrame``.\n",
        "gdfGreenland.plot(ax=ax, column='PFR', markersize=0.5, cmap=\"plasma\", vmin=45.0, legend=True, alpha=0.7)\n",
        "\n",
        "\n",
        "#gdfGreenland.explore(\"area\", legend=False)\n",
        "#m= folium.Map(location = [75.0,-41.0], tiles = \"Stamen Terrain\", zoom_start = 9)\n",
        "#gdfGreenland_epsg4326.explore(column='PFR', m=m)\n",
        "\n",
        "\n",
        "\n",
        "plt.show()"
      ],
      "metadata": {
        "id": "cZrjptoeri-0"
      },
      "execution_count": null,
      "outputs": []
    },
    {
      "cell_type": "code",
      "source": [
        "map = folium.Map(location = [13.406,80.110], tiles = \"Stamen Terrain\", zoom_start = 9)\n",
        "map"
      ],
      "metadata": {
        "id": "sA1EjqyQIoUs"
      },
      "execution_count": null,
      "outputs": []
    },
    {
      "cell_type": "code",
      "source": [
        "gdfGreenland.head()\n",
        "gdfGreenland.plot(ax=ax, column='PFR', markersize=0.5, alpha=0.7)\n",
        "plt.show()"
      ],
      "metadata": {
        "id": "mOsAshZT6d-0"
      },
      "execution_count": null,
      "outputs": []
    },
    {
      "cell_type": "code",
      "source": [
        "print(gdfGreenland.crs)"
      ],
      "metadata": {
        "id": "X98mxQAS2AYy"
      },
      "execution_count": null,
      "outputs": []
    }
  ]
}